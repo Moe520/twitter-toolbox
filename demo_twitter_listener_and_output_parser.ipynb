{
  "cells": [
    {
      "cell_type": "code",
      "source": [
        "import json\n",
        "\n",
        "from twitter_nlp_toolkit.twitter_listener import twitter_listener\n",
        "from twitter_nlp_toolkit.tweet_json_parser import tweet_json_parser"
      ],
      "outputs": [],
      "execution_count": 1,
      "metadata": {
        "execution": {
          "iopub.status.busy": "2020-10-05T23:07:15.975Z",
          "iopub.execute_input": "2020-10-05T23:07:15.979Z",
          "shell.execute_reply": "2020-10-05T23:07:16.520Z",
          "iopub.status.idle": "2020-10-05T23:07:16.514Z"
        }
      }
    },
    {
      "cell_type": "markdown",
      "source": [
        "This will need to contain a \"consumer_key\", \"consumer_secret\", \"access_token\", and \"access_secret\"\n",
        "\n",
        "You can get these by wigning up for a free Twitter dev account at https://developer.twitter.com/en/apply-for-access"
      ],
      "metadata": {}
    },
    {
      "cell_type": "code",
      "source": [
        "with open('keys.key', 'r') as infile:\n",
        "    credentials = json.load(infile)\n",
        "\n"
      ],
      "outputs": [],
      "execution_count": 2,
      "metadata": {
        "execution": {
          "iopub.status.busy": "2020-04-30T22:23:28.141Z",
          "iopub.execute_input": "2020-04-30T22:23:28.144Z",
          "iopub.status.idle": "2020-04-30T22:23:28.148Z",
          "shell.execute_reply": "2020-04-30T22:23:28.151Z"
        }
      }
    },
    {
      "cell_type": "code",
      "source": [
        "stream1 = twitter_listener.TwitterStreamListener(**credentials)"
      ],
      "outputs": [],
      "execution_count": 3,
      "metadata": {
        "jupyter": {
          "outputs_hidden": false,
          "source_hidden": false
        },
        "nteract": {
          "transient": {
            "deleting": false
          }
        },
        "execution": {
          "iopub.status.busy": "2020-04-30T22:23:29.763Z",
          "iopub.execute_input": "2020-04-30T22:23:29.767Z",
          "iopub.status.idle": "2020-04-30T22:23:29.774Z",
          "shell.execute_reply": "2020-04-30T22:23:29.777Z"
        }
      }
    },
    {
      "cell_type": "code",
      "source": [
        "# This monitors Twitter in real time and caches appends all incoming tweets \n",
        "# containing one of the sets of target words to disk\n",
        "\n",
        "stream1.collect_from_stream(max_tweets=10,output_json_name=\"ai_tweets.json\",console_interval=2,target_words=[\"AI\"])"
      ],
      "outputs": [
        {
          "output_type": "stream",
          "name": "stdout",
          "text": [
            "\n",
            "Initializing listener... \n",
            "\n",
            "Connecting listener to stream...\n",
            "\n",
            "\tStreaming now...\n",
            "Tweet Limit Reached: (10) .... Closing Stream \n"
          ]
        }
      ],
      "execution_count": 4,
      "metadata": {
        "jupyter": {
          "outputs_hidden": false,
          "source_hidden": false
        },
        "nteract": {
          "transient": {
            "deleting": false
          }
        },
        "execution": {
          "iopub.status.busy": "2020-04-30T22:23:30.513Z",
          "iopub.execute_input": "2020-04-30T22:23:30.516Z",
          "iopub.status.idle": "2020-04-30T22:23:39.377Z",
          "shell.execute_reply": "2020-04-30T22:23:39.383Z"
        }
      }
    },
    {
      "cell_type": "markdown",
      "source": [
        "These tweets are now saved in json form to nlp_tweets.json"
      ],
      "metadata": {}
    },
    {
      "cell_type": "code",
      "source": [
        "parser = tweet_json_parser.json_parser()"
      ],
      "outputs": [],
      "execution_count": 3,
      "metadata": {
        "jupyter": {
          "outputs_hidden": false,
          "source_hidden": false
        },
        "nteract": {
          "transient": {
            "deleting": false
          }
        },
        "execution": {
          "iopub.status.busy": "2020-10-05T23:07:37.244Z",
          "iopub.execute_input": "2020-10-05T23:07:37.246Z",
          "iopub.status.idle": "2020-10-05T23:07:37.252Z",
          "shell.execute_reply": "2020-10-05T23:07:37.255Z"
        }
      }
    },
    {
      "cell_type": "code",
      "source": [
        "parser.parse_json_file_into_csv(json_file_name=\"ai_tweets.json\",output_file_name=\"parsed_ai_tweets.csv\")"
      ],
      "outputs": [],
      "execution_count": 5,
      "metadata": {
        "jupyter": {
          "outputs_hidden": false,
          "source_hidden": false
        },
        "nteract": {
          "transient": {
            "deleting": false
          }
        },
        "execution": {
          "iopub.status.busy": "2020-10-05T23:08:13.574Z",
          "iopub.execute_input": "2020-10-05T23:08:13.579Z",
          "iopub.status.idle": "2020-10-05T23:08:13.758Z",
          "shell.execute_reply": "2020-10-05T23:08:13.765Z"
        }
      }
    },
    {
      "cell_type": "markdown",
      "source": [
        "These tweets are now saved in csv form to parsed_ai_tweets.csv!"
      ],
      "metadata": {
        "jupyter": {
          "outputs_hidden": false,
          "source_hidden": false
        },
        "nteract": {
          "transient": {
            "deleting": false
          }
        }
      }
    },
    {
      "cell_type": "code",
      "source": [
        "# Alternatively, the parser can also convert the json file to a pandas dataframe\n",
        "df = parser.parse_json_file_into_dataframe(json_file_name=\"ai_tweets.json\")"
      ],
      "outputs": [],
      "execution_count": 6,
      "metadata": {
        "execution": {
          "iopub.status.busy": "2020-10-05T23:09:17.338Z",
          "iopub.execute_input": "2020-10-05T23:09:17.341Z",
          "iopub.status.idle": "2020-10-05T23:09:17.392Z",
          "shell.execute_reply": "2020-10-05T23:09:17.399Z"
        }
      }
    },
    {
      "cell_type": "code",
      "source": [
        "df.head()"
      ],
      "outputs": [
        {
          "output_type": "execute_result",
          "execution_count": 7,
          "data": {
            "text/plain": "                       created_at                   id               id_str  \\\n0  Mon Oct 05 22:48:14 +0000 2020  1313249669452107785  1313249669452107785   \n1  Mon Oct 05 21:55:05 +0000 2020  1313236291983568898  1313236291983568898   \n2  Mon Oct 05 20:52:54 +0000 2020  1313220645262630917  1313220645262630917   \n3  Mon Oct 05 20:50:34 +0000 2020  1313220055585353728  1313220055585353728   \n4  Mon Oct 05 20:44:59 +0000 2020  1313218649725915137  1313218649725915137   \n\n                                                text  truncated  \\\n0  Did you know that some of the cheapest foods i...       True   \n1  All this week in the Afternoon Zone you could ...       True   \n2  RT @eatright: Freezing is a great way to have ...      False   \n3  @PersianCanopus من تنها چیزی که از save on foo...       True   \n4  @LaurenFink_ Whoa!! Which one?! Superstore, Sa...      False   \n\n                                              source  in_reply_to_status_id  \\\n0  <a href=\"https://mobile.twitter.com\" rel=\"nofo...                    NaN   \n1  <a href=\"http://futurimedia.com/radio/futuri-p...                    NaN   \n2  <a href=\"http://twitter.com/download/android\" ...                    NaN   \n3  <a href=\"https://mobile.twitter.com\" rel=\"nofo...           1.313193e+18   \n4  <a href=\"https://mobile.twitter.com\" rel=\"nofo...           1.313161e+18   \n\n  in_reply_to_status_id_str  in_reply_to_user_id in_reply_to_user_id_str  ...  \\\n0                      None                  NaN                    None  ...   \n1                      None                  NaN                    None  ...   \n2                      None                  NaN                    None  ...   \n3       1313192865095319552         8.838400e+17      883839959878180864  ...   \n4       1313160995246809090         2.412582e+08               241258185  ...   \n\n  retweeted_status.quoted_status.retweeted  \\\n0                                      NaN   \n1                                      NaN   \n2                                      NaN   \n3                                      NaN   \n4                                      NaN   \n\n   retweeted_status.quoted_status.possibly_sensitive  \\\n0                                                NaN   \n1                                                NaN   \n2                                                NaN   \n3                                                NaN   \n4                                                NaN   \n\n   retweeted_status.quoted_status.lang  quoted_status.user.entities.url.urls  \\\n0                                  NaN                                   NaN   \n1                                  NaN                                   NaN   \n2                                  NaN                                   NaN   \n3                                  NaN                                   NaN   \n4                                  NaN                                   NaN   \n\n  entities.media  extended_entities.media  geo.type  geo.coordinates  \\\n0            NaN                      NaN       NaN              NaN   \n1            NaN                      NaN       NaN              NaN   \n2            NaN                      NaN       NaN              NaN   \n3            NaN                      NaN       NaN              NaN   \n4            NaN                      NaN       NaN              NaN   \n\n   coordinates.type  coordinates.coordinates  \n0               NaN                      NaN  \n1               NaN                      NaN  \n2               NaN                      NaN  \n3               NaN                      NaN  \n4               NaN                      NaN  \n\n[5 rows x 306 columns]",
            "text/html": "<div>\n<style scoped>\n    .dataframe tbody tr th:only-of-type {\n        vertical-align: middle;\n    }\n\n    .dataframe tbody tr th {\n        vertical-align: top;\n    }\n\n    .dataframe thead th {\n        text-align: right;\n    }\n</style>\n<table border=\"1\" class=\"dataframe\">\n  <thead>\n    <tr style=\"text-align: right;\">\n      <th></th>\n      <th>created_at</th>\n      <th>id</th>\n      <th>id_str</th>\n      <th>text</th>\n      <th>truncated</th>\n      <th>source</th>\n      <th>in_reply_to_status_id</th>\n      <th>in_reply_to_status_id_str</th>\n      <th>in_reply_to_user_id</th>\n      <th>in_reply_to_user_id_str</th>\n      <th>...</th>\n      <th>retweeted_status.quoted_status.retweeted</th>\n      <th>retweeted_status.quoted_status.possibly_sensitive</th>\n      <th>retweeted_status.quoted_status.lang</th>\n      <th>quoted_status.user.entities.url.urls</th>\n      <th>entities.media</th>\n      <th>extended_entities.media</th>\n      <th>geo.type</th>\n      <th>geo.coordinates</th>\n      <th>coordinates.type</th>\n      <th>coordinates.coordinates</th>\n    </tr>\n  </thead>\n  <tbody>\n    <tr>\n      <th>0</th>\n      <td>Mon Oct 05 22:48:14 +0000 2020</td>\n      <td>1313249669452107785</td>\n      <td>1313249669452107785</td>\n      <td>Did you know that some of the cheapest foods i...</td>\n      <td>True</td>\n      <td>&lt;a href=\"https://mobile.twitter.com\" rel=\"nofo...</td>\n      <td>NaN</td>\n      <td>None</td>\n      <td>NaN</td>\n      <td>None</td>\n      <td>...</td>\n      <td>NaN</td>\n      <td>NaN</td>\n      <td>NaN</td>\n      <td>NaN</td>\n      <td>NaN</td>\n      <td>NaN</td>\n      <td>NaN</td>\n      <td>NaN</td>\n      <td>NaN</td>\n      <td>NaN</td>\n    </tr>\n    <tr>\n      <th>1</th>\n      <td>Mon Oct 05 21:55:05 +0000 2020</td>\n      <td>1313236291983568898</td>\n      <td>1313236291983568898</td>\n      <td>All this week in the Afternoon Zone you could ...</td>\n      <td>True</td>\n      <td>&lt;a href=\"http://futurimedia.com/radio/futuri-p...</td>\n      <td>NaN</td>\n      <td>None</td>\n      <td>NaN</td>\n      <td>None</td>\n      <td>...</td>\n      <td>NaN</td>\n      <td>NaN</td>\n      <td>NaN</td>\n      <td>NaN</td>\n      <td>NaN</td>\n      <td>NaN</td>\n      <td>NaN</td>\n      <td>NaN</td>\n      <td>NaN</td>\n      <td>NaN</td>\n    </tr>\n    <tr>\n      <th>2</th>\n      <td>Mon Oct 05 20:52:54 +0000 2020</td>\n      <td>1313220645262630917</td>\n      <td>1313220645262630917</td>\n      <td>RT @eatright: Freezing is a great way to have ...</td>\n      <td>False</td>\n      <td>&lt;a href=\"http://twitter.com/download/android\" ...</td>\n      <td>NaN</td>\n      <td>None</td>\n      <td>NaN</td>\n      <td>None</td>\n      <td>...</td>\n      <td>NaN</td>\n      <td>NaN</td>\n      <td>NaN</td>\n      <td>NaN</td>\n      <td>NaN</td>\n      <td>NaN</td>\n      <td>NaN</td>\n      <td>NaN</td>\n      <td>NaN</td>\n      <td>NaN</td>\n    </tr>\n    <tr>\n      <th>3</th>\n      <td>Mon Oct 05 20:50:34 +0000 2020</td>\n      <td>1313220055585353728</td>\n      <td>1313220055585353728</td>\n      <td>@PersianCanopus من تنها چیزی که از save on foo...</td>\n      <td>True</td>\n      <td>&lt;a href=\"https://mobile.twitter.com\" rel=\"nofo...</td>\n      <td>1.313193e+18</td>\n      <td>1313192865095319552</td>\n      <td>8.838400e+17</td>\n      <td>883839959878180864</td>\n      <td>...</td>\n      <td>NaN</td>\n      <td>NaN</td>\n      <td>NaN</td>\n      <td>NaN</td>\n      <td>NaN</td>\n      <td>NaN</td>\n      <td>NaN</td>\n      <td>NaN</td>\n      <td>NaN</td>\n      <td>NaN</td>\n    </tr>\n    <tr>\n      <th>4</th>\n      <td>Mon Oct 05 20:44:59 +0000 2020</td>\n      <td>1313218649725915137</td>\n      <td>1313218649725915137</td>\n      <td>@LaurenFink_ Whoa!! Which one?! Superstore, Sa...</td>\n      <td>False</td>\n      <td>&lt;a href=\"https://mobile.twitter.com\" rel=\"nofo...</td>\n      <td>1.313161e+18</td>\n      <td>1313160995246809090</td>\n      <td>2.412582e+08</td>\n      <td>241258185</td>\n      <td>...</td>\n      <td>NaN</td>\n      <td>NaN</td>\n      <td>NaN</td>\n      <td>NaN</td>\n      <td>NaN</td>\n      <td>NaN</td>\n      <td>NaN</td>\n      <td>NaN</td>\n      <td>NaN</td>\n      <td>NaN</td>\n    </tr>\n  </tbody>\n</table>\n<p>5 rows × 306 columns</p>\n</div>"
          },
          "metadata": {}
        }
      ],
      "execution_count": 7,
      "metadata": {
        "collapsed": true,
        "jupyter": {
          "source_hidden": false,
          "outputs_hidden": false
        },
        "nteract": {
          "transient": {
            "deleting": false
          }
        },
        "execution": {
          "iopub.status.busy": "2020-10-05T23:09:22.791Z",
          "iopub.execute_input": "2020-10-05T23:09:22.794Z",
          "iopub.status.idle": "2020-10-05T23:09:22.807Z",
          "shell.execute_reply": "2020-10-05T23:09:22.886Z"
        }
      }
    },
    {
      "cell_type": "code",
      "source": [],
      "outputs": [],
      "execution_count": null,
      "metadata": {
        "collapsed": true,
        "jupyter": {
          "source_hidden": false,
          "outputs_hidden": false
        },
        "nteract": {
          "transient": {
            "deleting": false
          }
        }
      }
    }
  ],
  "metadata": {
    "kernelspec": {
      "display_name": "Python 3",
      "language": "python",
      "name": "python3"
    },
    "language_info": {
      "name": "python",
      "version": "3.7.4",
      "mimetype": "text/x-python",
      "codemirror_mode": {
        "name": "ipython",
        "version": 3
      },
      "pygments_lexer": "ipython3",
      "nbconvert_exporter": "python",
      "file_extension": ".py"
    },
    "nteract": {
      "version": "0.25.1"
    }
  },
  "nbformat": 4,
  "nbformat_minor": 2
}